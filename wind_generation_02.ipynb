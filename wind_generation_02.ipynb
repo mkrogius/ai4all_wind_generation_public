{
 "cells": [
  {
   "cell_type": "markdown",
   "metadata": {},
   "source": [
    "## Wind Power Generation Prediction\n",
    "If we know weather conditions, can we predict how much energy wind farms will generate?"
   ]
  },
  {
   "cell_type": "code",
   "execution_count": 1,
   "metadata": {},
   "outputs": [],
   "source": [
    "import numpy as np\n",
    "import pandas as pd\n",
    "import matplotlib.pyplot as plt\n",
    "%matplotlib inline"
   ]
  },
  {
   "cell_type": "markdown",
   "metadata": {},
   "source": [
    "Lets import the data like last time."
   ]
  },
  {
   "cell_type": "code",
   "execution_count": 5,
   "metadata": {},
   "outputs": [],
   "source": [
    "data_gen = pd.read_csv('https://raw.githubusercontent.com/mkrogius/ai4all_wind_generation_public/master/time_series_60min_singleindex_filtered.csv',\n",
    "                   usecols=lambda s: s.startswith('utc') or s.startswith('DE'),\n",
    "                   parse_dates=[0], index_col=0)\n",
    "data_gen_2016 = data_gen.loc['20160101':'20170101', 'DE_wind_generation_actual']\n",
    "data_wind = pd.read_csv('https://raw.githubusercontent.com/mkrogius/ai4all_wind_generation_public/master/weather_data_filtered.csv',\n",
    "                       parse_dates=[0], index_col=0)\n",
    "data_wind_2016 = data_wind.loc['20160101':'20170101']\n",
    "data_wind_2016 = data_wind_2016[data_wind_2016.index.duplicated() == False]\n",
    "data_2016 = pd.concat([data_wind_2016, data_gen_2016], axis=1, join='inner')"
   ]
  },
  {
   "cell_type": "markdown",
   "metadata": {},
   "source": [
    "Now lets look at what the first few rows of the data look like (just like last time)."
   ]
  },
  {
   "cell_type": "code",
   "execution_count": null,
   "metadata": {},
   "outputs": [],
   "source": []
  },
  {
   "cell_type": "markdown",
   "metadata": {},
   "source": [
    "Now lets split the data into train_x/train_y and test_x/test_y as before.\n",
    "\n",
    "The difference is that we are now using all columns of the data instead of just the first four. Is there some easier way to do this than listing out all of the columns we want?\n",
    "\n",
    "Hint: if you call .columns it give you a list of all the columns in the dataset.\n",
    "Hint2: You can slice this list of columns to get just the ones you want and store it in a variable for use later."
   ]
  },
  {
   "cell_type": "code",
   "execution_count": null,
   "metadata": {},
   "outputs": [],
   "source": []
  },
  {
   "cell_type": "markdown",
   "metadata": {},
   "source": [
    "Now lets normalize the data using StandardScaler like last time."
   ]
  },
  {
   "cell_type": "code",
   "execution_count": null,
   "metadata": {},
   "outputs": [],
   "source": []
  },
  {
   "cell_type": "markdown",
   "metadata": {},
   "source": [
    "Now lets fit a linear model using sklearn LinearRegression, just like last time.\n",
    "\n",
    "The difference from last time is that we are now using all the columns of the data instead of just the first four."
   ]
  },
  {
   "cell_type": "code",
   "execution_count": null,
   "metadata": {},
   "outputs": [],
   "source": []
  },
  {
   "cell_type": "markdown",
   "metadata": {},
   "source": [
    "Print out the score of the model (it should be around 0.88) and it's coefficients. How have the coefficients changed from our model last time?"
   ]
  },
  {
   "cell_type": "code",
   "execution_count": null,
   "metadata": {},
   "outputs": [],
   "source": []
  },
  {
   "cell_type": "code",
   "execution_count": null,
   "metadata": {
    "scrolled": true
   },
   "outputs": [],
   "source": []
  },
  {
   "cell_type": "markdown",
   "metadata": {},
   "source": [
    "Make a plot of the predictions of this model."
   ]
  },
  {
   "cell_type": "code",
   "execution_count": null,
   "metadata": {},
   "outputs": [],
   "source": []
  },
  {
   "cell_type": "markdown",
   "metadata": {},
   "source": [
    "This model works well, but can we do better by trying a different type of model? Train a RandomForestRegressor on the same data and see if it does better."
   ]
  },
  {
   "cell_type": "code",
   "execution_count": null,
   "metadata": {},
   "outputs": [],
   "source": []
  },
  {
   "cell_type": "markdown",
   "metadata": {},
   "source": [
    "This should perform better than the previous model. Why do you think it did better than the LinearRegression?\n",
    "\n",
    "Make a plot of the predictions of this model."
   ]
  },
  {
   "cell_type": "code",
   "execution_count": null,
   "metadata": {},
   "outputs": [],
   "source": []
  }
 ],
 "metadata": {
  "kernelspec": {
   "display_name": "Python 3",
   "language": "python",
   "name": "python3"
  },
  "language_info": {
   "codemirror_mode": {
    "name": "ipython",
    "version": 3
   },
   "file_extension": ".py",
   "mimetype": "text/x-python",
   "name": "python",
   "nbconvert_exporter": "python",
   "pygments_lexer": "ipython3",
   "version": "3.6.8"
  }
 },
 "nbformat": 4,
 "nbformat_minor": 2
}
