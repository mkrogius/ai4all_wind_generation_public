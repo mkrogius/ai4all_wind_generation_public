{
 "cells": [
  {
   "cell_type": "markdown",
   "metadata": {},
   "source": [
    "## Wind Power Generation Prediction\n",
    "Today we will try to predict the weather multiple hours in advance. We will make a plot of prediction score vs # of hours in advance we are predicting."
   ]
  },
  {
   "cell_type": "code",
   "execution_count": 2,
   "metadata": {},
   "outputs": [],
   "source": [
    "import numpy as np\n",
    "import pandas as pd\n",
    "import matplotlib.pyplot as plt\n",
    "%matplotlib notebook"
   ]
  },
  {
   "cell_type": "markdown",
   "metadata": {},
   "source": [
    "Lets import the data"
   ]
  },
  {
   "cell_type": "code",
   "execution_count": 3,
   "metadata": {},
   "outputs": [],
   "source": [
    "data_gen = pd.read_csv('https://raw.githubusercontent.com/mkrogius/ai4all_wind_generation_public/master/time_series_60min_singleindex_filtered.csv',\n",
    "                   usecols=lambda s: s.startswith('utc') or s.startswith('DE'),\n",
    "                   parse_dates=[0], index_col=0)\n",
    "data_gen_2016 = data_gen.loc['20160101':'20170101', 'DE_wind_generation_actual']\n",
    "data_wind = pd.read_csv('https://raw.githubusercontent.com/mkrogius/ai4all_wind_generation_public/master/weather_data_filtered.csv',\n",
    "                       parse_dates=[0], index_col=0)\n",
    "data_wind_2016 = data_wind.loc['20160101':'20170101']\n",
    "data_wind_2016 = data_wind_2016[data_wind_2016.index.duplicated() == False]\n",
    "data_2016 = pd.concat([data_wind_2016, data_gen_2016], axis=1, join='inner')"
   ]
  },
  {
   "cell_type": "markdown",
   "metadata": {},
   "source": [
    "Now lets split the data into train_x/train_y and test_x/test_y using just the first four columns like on the first day."
   ]
  },
  {
   "cell_type": "code",
   "execution_count": 4,
   "metadata": {},
   "outputs": [],
   "source": [
    "weather_columns = ['DE_windspeed_10m','DE_temperature', 'DE_radiation_direct_horizontal', 'DE_radiation_diffuse_horizontal']\n",
    "train_x = data_2016.loc['20160101':'20160630', weather_columns]\n",
    "test_x = data_2016.loc['20160630':'20170101', weather_columns]\n",
    "train_y = data_2016.loc['20160101':'20160630', 'DE_wind_generation_actual']\n",
    "test_y = data_2016.loc['20160630':'20170101', 'DE_wind_generation_actual']"
   ]
  },
  {
   "cell_type": "markdown",
   "metadata": {},
   "source": [
    "Now comes the part that is different. We want to predict the energy prediction one hour in advance. We will do this by creating new array's for train_x/test_x which have all the data except for the last hour, and new arrays for train_y/test_y which have all the data except for the first hour. This way the x data for say 10am will line up with the y data for 11am.\n",
    "\n",
    "We will us the .iloc pandas method. [Method reference](https://pandas.pydata.org/pandas-docs/stable/user_guide/indexing.html#indexing-integer)"
   ]
  },
  {
   "cell_type": "code",
   "execution_count": null,
   "metadata": {},
   "outputs": [],
   "source": []
  },
  {
   "cell_type": "markdown",
   "metadata": {},
   "source": [
    "Now lets normalize the data using StandardScaler like last time."
   ]
  },
  {
   "cell_type": "code",
   "execution_count": null,
   "metadata": {},
   "outputs": [],
   "source": []
  },
  {
   "cell_type": "markdown",
   "metadata": {},
   "source": [
    "Now lets fit a linear model using sklearn LinearRegression, just like last time.\n",
    "\n",
    "The difference from last time is that we are now trying to predict the future energy generation. Does this model end up with a higher or lower score than yesterday's models?"
   ]
  },
  {
   "cell_type": "code",
   "execution_count": null,
   "metadata": {},
   "outputs": [],
   "source": []
  },
  {
   "cell_type": "markdown",
   "metadata": {},
   "source": [
    "Print out the score of the model (it should be around 0.74) and it's coefficients. How have the coefficients changed from our model last time?"
   ]
  },
  {
   "cell_type": "code",
   "execution_count": null,
   "metadata": {},
   "outputs": [],
   "source": []
  },
  {
   "cell_type": "code",
   "execution_count": null,
   "metadata": {
    "scrolled": true
   },
   "outputs": [],
   "source": []
  },
  {
   "cell_type": "markdown",
   "metadata": {},
   "source": [
    "Make a plot of the predictions of this model."
   ]
  },
  {
   "cell_type": "code",
   "execution_count": null,
   "metadata": {},
   "outputs": [],
   "source": []
  },
  {
   "cell_type": "markdown",
   "metadata": {},
   "source": [
    "Now we want to try predicting energy generation more than one hour in the future. Make a function that takes as an argument the number of hours in the future we want to predict.\n",
    "\n",
    "This function should:\n",
    "1) Create the shifted train_x/train_y/test_x/test_y arrays.\n",
    "2) Scale the arrays.\n",
    "3) Fit a linear model to the arrays.\n",
    "4) Return the score of the model."
   ]
  },
  {
   "cell_type": "code",
   "execution_count": null,
   "metadata": {},
   "outputs": [],
   "source": []
  },
  {
   "cell_type": "markdown",
   "metadata": {},
   "source": [
    "Use the function you created to make a plot of prediction score vs how many hours in the future we are predicting. We should expect that the model score decreases as we try to predict the energy generation further into the future."
   ]
  },
  {
   "cell_type": "code",
   "execution_count": null,
   "metadata": {},
   "outputs": [],
   "source": []
  },
  {
   "cell_type": "code",
   "execution_count": null,
   "metadata": {},
   "outputs": [],
   "source": []
  },
  {
   "cell_type": "code",
   "execution_count": null,
   "metadata": {},
   "outputs": [],
   "source": []
  },
  {
   "cell_type": "markdown",
   "metadata": {},
   "source": [
    "Make a plot of the predictions from the model trained to predict 24 hours in advance. Is this model working well?"
   ]
  },
  {
   "cell_type": "code",
   "execution_count": null,
   "metadata": {},
   "outputs": [],
   "source": []
  },
  {
   "cell_type": "markdown",
   "metadata": {},
   "source": [
    "How can we get better predictions further in advance? First, let's try using a fancier model. Create another function for predicting scores, but this time use your favorite model from yesterday."
   ]
  },
  {
   "cell_type": "code",
   "execution_count": null,
   "metadata": {},
   "outputs": [],
   "source": []
  },
  {
   "cell_type": "markdown",
   "metadata": {},
   "source": [
    "Make another plot of score vs hours in advance with two data series, one for this model and one for the linear model."
   ]
  },
  {
   "cell_type": "code",
   "execution_count": null,
   "metadata": {},
   "outputs": [],
   "source": []
  },
  {
   "cell_type": "markdown",
   "metadata": {},
   "source": [
    "Which model is better?"
   ]
  },
  {
   "cell_type": "markdown",
   "metadata": {},
   "source": [
    "Let's try to make even better predictions by doing some feature engineering. Currently we are using the data from the current hour to do predictions of future hours. Now we will do what is called a sliding window where we use the data from the current hour and a few past hours for prediction.\n",
    "\n",
    "First let's set up the train_x/train_y/test_x/test_y arrays for this data. We will need to select the subset of rows needed similar to before, but now we will be selecting two different subsets and concatenating them.\n",
    "\n",
    "We want to have train_x_a which has data which is one hour ahead of train_x_b, which is one hour ahead of train_y, and similarly for the test dataset."
   ]
  },
  {
   "cell_type": "code",
   "execution_count": null,
   "metadata": {},
   "outputs": [],
   "source": []
  },
  {
   "cell_type": "markdown",
   "metadata": {},
   "source": [
    "Now we will concatenate train_x_a and train_x_b using pd.concat. But first we will want to delete the index of both train_x_left and train_x_right using .reset_index(drop=True) so that pandas does not try to put rows with the same timestamp's together.\n",
    "\n"
   ]
  },
  {
   "cell_type": "code",
   "execution_count": null,
   "metadata": {},
   "outputs": [],
   "source": []
  },
  {
   "cell_type": "markdown",
   "metadata": {},
   "source": [
    "Now let's train a model using the sliding window test set, and print the score of the model. Does this do better than the predictions without a sliding window?"
   ]
  },
  {
   "cell_type": "code",
   "execution_count": null,
   "metadata": {},
   "outputs": [],
   "source": []
  },
  {
   "cell_type": "markdown",
   "metadata": {},
   "source": [
    "Final Challenge: Right a function that takes two arguments, first the number of hours in the future to predict, and second the number of previous hours of data to concatenate in the sliding window. It should return the score of your favorite model trained on this data.\n",
    "\n",
    "Make a plot of the score of the model versus the number of hours in advance that we are predicting.\n",
    "\n",
    "Try to change the size of the sliding window, as well as the type of model you are using in order to improve your results!"
   ]
  },
  {
   "cell_type": "code",
   "execution_count": null,
   "metadata": {},
   "outputs": [],
   "source": []
  },
  {
   "cell_type": "code",
   "execution_count": null,
   "metadata": {},
   "outputs": [],
   "source": []
  },
  {
   "cell_type": "code",
   "execution_count": null,
   "metadata": {},
   "outputs": [],
   "source": []
  },
  {
   "cell_type": "code",
   "execution_count": null,
   "metadata": {},
   "outputs": [],
   "source": []
  },
  {
   "cell_type": "code",
   "execution_count": null,
   "metadata": {},
   "outputs": [],
   "source": []
  },
  {
   "cell_type": "code",
   "execution_count": null,
   "metadata": {},
   "outputs": [],
   "source": []
  },
  {
   "cell_type": "code",
   "execution_count": null,
   "metadata": {},
   "outputs": [],
   "source": []
  },
  {
   "cell_type": "code",
   "execution_count": null,
   "metadata": {},
   "outputs": [],
   "source": []
  },
  {
   "cell_type": "code",
   "execution_count": null,
   "metadata": {},
   "outputs": [],
   "source": []
  },
  {
   "cell_type": "code",
   "execution_count": null,
   "metadata": {},
   "outputs": [],
   "source": []
  },
  {
   "cell_type": "code",
   "execution_count": null,
   "metadata": {},
   "outputs": [],
   "source": []
  },
  {
   "cell_type": "code",
   "execution_count": null,
   "metadata": {},
   "outputs": [],
   "source": []
  },
  {
   "cell_type": "code",
   "execution_count": null,
   "metadata": {},
   "outputs": [],
   "source": []
  },
  {
   "cell_type": "code",
   "execution_count": null,
   "metadata": {},
   "outputs": [],
   "source": []
  },
  {
   "cell_type": "code",
   "execution_count": null,
   "metadata": {},
   "outputs": [],
   "source": []
  }
 ],
 "metadata": {
  "kernelspec": {
   "display_name": "Python 3",
   "language": "python",
   "name": "python3"
  },
  "language_info": {
   "codemirror_mode": {
    "name": "ipython",
    "version": 3
   },
   "file_extension": ".py",
   "mimetype": "text/x-python",
   "name": "python",
   "nbconvert_exporter": "python",
   "pygments_lexer": "ipython3",
   "version": "3.6.8"
  }
 },
 "nbformat": 4,
 "nbformat_minor": 2
}
