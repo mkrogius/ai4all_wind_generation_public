{
 "cells": [
  {
   "cell_type": "markdown",
   "metadata": {},
   "source": [
    "## Wind Power Generation Prediction\n",
    "Today we will try to predict the weather multiple hours in advance. We will make a plot of prediction score vs # of hours in advance we are predicting."
   ]
  },
  {
   "cell_type": "code",
   "execution_count": 66,
   "metadata": {},
   "outputs": [],
   "source": [
    "import numpy as np\n",
    "import pandas as pd\n",
    "import matplotlib.pyplot as plt\n",
    "%matplotlib inline"
   ]
  },
  {
   "cell_type": "markdown",
   "metadata": {},
   "source": [
    "Lets import the data"
   ]
  },
  {
   "cell_type": "code",
   "execution_count": 67,
   "metadata": {},
   "outputs": [],
   "source": [
    "data_gen = pd.read_csv('https://raw.githubusercontent.com/mkrogius/ai4all_wind_generation_public/master/time_series_60min_singleindex_filtered.csv',\n",
    "                   usecols=lambda s: s.startswith('utc') or s.startswith('DE'),\n",
    "                   parse_dates=[0], index_col=0)\n",
    "data_gen_2016 = data_gen.loc['20160101':'20170101', 'DE_wind_generation_actual']\n",
    "data_wind = pd.read_csv('https://raw.githubusercontent.com/mkrogius/ai4all_wind_generation_public/master/weather_data_filtered.csv',\n",
    "                       parse_dates=[0], index_col=0)\n",
    "data_wind_2016 = data_wind.loc['20160101':'20170101']\n",
    "data_wind_2016 = data_wind_2016[data_wind_2016.index.duplicated() == False]\n",
    "data_2016 = pd.concat([data_wind_2016, data_gen_2016], axis=1, join='inner')"
   ]
  },
  {
   "cell_type": "markdown",
   "metadata": {},
   "source": [
    "Let's calculate the average temperature for each month. First let's add a column to the dataset which is the month from the timestamp."
   ]
  },
  {
   "cell_type": "code",
   "execution_count": 68,
   "metadata": {},
   "outputs": [],
   "source": []
  },
  {
   "cell_type": "markdown",
   "metadata": {},
   "source": [
    "Now let's use groupby to compute the mean temperature for each month."
   ]
  },
  {
   "cell_type": "code",
   "execution_count": 69,
   "metadata": {},
   "outputs": [],
   "source": []
  },
  {
   "cell_type": "markdown",
   "metadata": {},
   "source": [
    "Plot the temperature in fahrenheit."
   ]
  },
  {
   "cell_type": "code",
   "execution_count": 70,
   "metadata": {},
   "outputs": [
    {
     "data": {
      "text/plain": [
       "[<matplotlib.lines.Line2D at 0x7f7cb5a2f630>]"
      ]
     },
     "execution_count": 70,
     "metadata": {},
     "output_type": "execute_result"
    },
    {
     "data": {
      "image/png": "[encoded data removed]",
      "text/plain": [
       "<Figure size 432x288 with 1 Axes>"
      ]
     },
     "metadata": {},
     "output_type": "display_data"
    }
   ],
   "source": []
  },
  {
   "cell_type": "markdown",
   "metadata": {},
   "source": [
    "Now plot windspeed vs month."
   ]
  },
  {
   "cell_type": "code",
   "execution_count": null,
   "metadata": {},
   "outputs": [],
   "source": []
  },
  {
   "cell_type": "markdown",
   "metadata": {},
   "source": [
    "Finally, let's plot wind generation vs month."
   ]
  },
  {
   "cell_type": "code",
   "execution_count": null,
   "metadata": {},
   "outputs": [],
   "source": []
  }
 ],
 "metadata": {
  "kernelspec": {
   "display_name": "Python 3",
   "language": "python",
   "name": "python3"
  },
  "language_info": {
   "codemirror_mode": {
    "name": "ipython",
    "version": 3
   },
   "file_extension": ".py",
   "mimetype": "text/x-python",
   "name": "python",
   "nbconvert_exporter": "python",
   "pygments_lexer": "ipython3",
   "version": "3.6.8"
  }
 },
 "nbformat": 4,
 "nbformat_minor": 2
}
